{
 "cells": [
  {
   "cell_type": "markdown",
   "metadata": {},
   "source": [
    "### Цель данного блокнота - понять как отделить нормальные данные от аномальных\n"
   ]
  },
  {
   "cell_type": "code",
   "execution_count": 4,
   "metadata": {},
   "outputs": [],
   "source": [
    "import seaborn as sns\n",
    "import pandas as pd\n",
    "import seaborn as sns\n",
    "import matplotlib.pyplot as plt"
   ]
  },
  {
   "cell_type": "code",
   "execution_count": 86,
   "metadata": {},
   "outputs": [],
   "source": [
    "General_path = \"C:/Users/Dmitriy/Desktop/Univer/Diplom/diplom_autoencoder/data/\"\n",
    "raw = \"raw/\"\n",
    "processed = \"processed/\"\n",
    "final = \"final/\"\n",
    "tests = \"tests/\"\n",
    "\n",
    "\n",
    "train_FD001 = pd.read_csv(\"C:/Users/Dmitriy/Desktop/Univer/Diplom/diplom_autoencoder/data/raw/train_FD001.csv\")\n",
    "train_FD002 = pd.read_csv(\"C:/Users/Dmitriy/Desktop/Univer/Diplom/diplom_autoencoder/data/raw/train_FD002.csv\")\n",
    "train_FD003 = pd.read_csv(\"C:/Users/Dmitriy/Desktop/Univer/Diplom/diplom_autoencoder/data/raw/train_FD003.csv\")\n",
    "train_FD004 = pd.read_csv(\"C:/Users/Dmitriy/Desktop/Univer/Diplom/diplom_autoencoder/data/raw/train_FD004.csv\")\n",
    "\n",
    "New_NORMALNew_train_FD001 = pd.read_csv(General_path + processed + \"New_NORMALNew_train_FD001.csv\", delimiter=',')\n",
    "New_ANOMALNew_train_FD001 = pd.read_csv(General_path + processed + \"New_ANOMALNew_train_FD001.csv\", delimiter=',')\n",
    "\n",
    "New_train_FD001 = pd.read_csv(General_path + processed + \"New_train_FD001.csv\", delimiter=',')"
   ]
  },
  {
   "cell_type": "code",
   "execution_count": 6,
   "metadata": {},
   "outputs": [
    {
     "data": {
      "text/html": [
       "<div>\n",
       "<style scoped>\n",
       "    .dataframe tbody tr th:only-of-type {\n",
       "        vertical-align: middle;\n",
       "    }\n",
       "\n",
       "    .dataframe tbody tr th {\n",
       "        vertical-align: top;\n",
       "    }\n",
       "\n",
       "    .dataframe thead th {\n",
       "        text-align: right;\n",
       "    }\n",
       "</style>\n",
       "<table border=\"1\" class=\"dataframe\">\n",
       "  <thead>\n",
       "    <tr style=\"text-align: right;\">\n",
       "      <th></th>\n",
       "      <th>unit number</th>\n",
       "      <th>time in cycles</th>\n",
       "      <th>operational setting 1</th>\n",
       "      <th>operational setting 2</th>\n",
       "      <th>operational setting 3</th>\n",
       "      <th>sensor measurement 1</th>\n",
       "      <th>sensor measurement 2</th>\n",
       "      <th>sensor measurement 3</th>\n",
       "      <th>sensor measurement 4</th>\n",
       "      <th>sensor measurement 5</th>\n",
       "      <th>...</th>\n",
       "      <th>sensor measurement 12</th>\n",
       "      <th>sensor measurement 13</th>\n",
       "      <th>sensor measurement 14</th>\n",
       "      <th>sensor measurement 15</th>\n",
       "      <th>sensor measurement 16</th>\n",
       "      <th>sensor measurement 17</th>\n",
       "      <th>sensor measurement 18</th>\n",
       "      <th>sensor measurement 19</th>\n",
       "      <th>sensor measurement 20</th>\n",
       "      <th>sensor measurement 21</th>\n",
       "    </tr>\n",
       "  </thead>\n",
       "  <tbody>\n",
       "    <tr>\n",
       "      <th>0</th>\n",
       "      <td>1</td>\n",
       "      <td>1</td>\n",
       "      <td>-0.0007</td>\n",
       "      <td>-0.0004</td>\n",
       "      <td>100.0</td>\n",
       "      <td>518.67</td>\n",
       "      <td>641.82</td>\n",
       "      <td>1589.70</td>\n",
       "      <td>1400.60</td>\n",
       "      <td>14.62</td>\n",
       "      <td>...</td>\n",
       "      <td>521.66</td>\n",
       "      <td>2388.02</td>\n",
       "      <td>8138.62</td>\n",
       "      <td>8.4195</td>\n",
       "      <td>0.03</td>\n",
       "      <td>392</td>\n",
       "      <td>2388</td>\n",
       "      <td>100.0</td>\n",
       "      <td>39.06</td>\n",
       "      <td>23.4190</td>\n",
       "    </tr>\n",
       "    <tr>\n",
       "      <th>1</th>\n",
       "      <td>1</td>\n",
       "      <td>2</td>\n",
       "      <td>0.0019</td>\n",
       "      <td>-0.0003</td>\n",
       "      <td>100.0</td>\n",
       "      <td>518.67</td>\n",
       "      <td>642.15</td>\n",
       "      <td>1591.82</td>\n",
       "      <td>1403.14</td>\n",
       "      <td>14.62</td>\n",
       "      <td>...</td>\n",
       "      <td>522.28</td>\n",
       "      <td>2388.07</td>\n",
       "      <td>8131.49</td>\n",
       "      <td>8.4318</td>\n",
       "      <td>0.03</td>\n",
       "      <td>392</td>\n",
       "      <td>2388</td>\n",
       "      <td>100.0</td>\n",
       "      <td>39.00</td>\n",
       "      <td>23.4236</td>\n",
       "    </tr>\n",
       "    <tr>\n",
       "      <th>2</th>\n",
       "      <td>1</td>\n",
       "      <td>3</td>\n",
       "      <td>-0.0043</td>\n",
       "      <td>0.0003</td>\n",
       "      <td>100.0</td>\n",
       "      <td>518.67</td>\n",
       "      <td>642.35</td>\n",
       "      <td>1587.99</td>\n",
       "      <td>1404.20</td>\n",
       "      <td>14.62</td>\n",
       "      <td>...</td>\n",
       "      <td>522.42</td>\n",
       "      <td>2388.03</td>\n",
       "      <td>8133.23</td>\n",
       "      <td>8.4178</td>\n",
       "      <td>0.03</td>\n",
       "      <td>390</td>\n",
       "      <td>2388</td>\n",
       "      <td>100.0</td>\n",
       "      <td>38.95</td>\n",
       "      <td>23.3442</td>\n",
       "    </tr>\n",
       "  </tbody>\n",
       "</table>\n",
       "<p>3 rows × 26 columns</p>\n",
       "</div>"
      ],
      "text/plain": [
       "   unit number  time in cycles  operational setting 1  operational setting 2  \\\n",
       "0            1               1                -0.0007                -0.0004   \n",
       "1            1               2                 0.0019                -0.0003   \n",
       "2            1               3                -0.0043                 0.0003   \n",
       "\n",
       "   operational setting 3  sensor measurement 1  sensor measurement 2  \\\n",
       "0                  100.0                518.67                641.82   \n",
       "1                  100.0                518.67                642.15   \n",
       "2                  100.0                518.67                642.35   \n",
       "\n",
       "   sensor measurement 3  sensor measurement 4  sensor measurement 5  ...  \\\n",
       "0               1589.70               1400.60                 14.62  ...   \n",
       "1               1591.82               1403.14                 14.62  ...   \n",
       "2               1587.99               1404.20                 14.62  ...   \n",
       "\n",
       "   sensor measurement 12  sensor measurement 13  sensor measurement 14  \\\n",
       "0                 521.66                2388.02                8138.62   \n",
       "1                 522.28                2388.07                8131.49   \n",
       "2                 522.42                2388.03                8133.23   \n",
       "\n",
       "   sensor measurement 15  sensor measurement 16  sensor measurement 17  \\\n",
       "0                 8.4195                   0.03                    392   \n",
       "1                 8.4318                   0.03                    392   \n",
       "2                 8.4178                   0.03                    390   \n",
       "\n",
       "   sensor measurement 18  sensor measurement 19  sensor measurement 20  \\\n",
       "0                   2388                  100.0                  39.06   \n",
       "1                   2388                  100.0                  39.00   \n",
       "2                   2388                  100.0                  38.95   \n",
       "\n",
       "   sensor measurement 21  \n",
       "0                23.4190  \n",
       "1                23.4236  \n",
       "2                23.3442  \n",
       "\n",
       "[3 rows x 26 columns]"
      ]
     },
     "execution_count": 6,
     "metadata": {},
     "output_type": "execute_result"
    }
   ],
   "source": [
    "train_FD001.head(3)"
   ]
  },
  {
   "cell_type": "code",
   "execution_count": 17,
   "metadata": {},
   "outputs": [],
   "source": [
    "All_TrainData = pd.concat([train_FD001, train_FD002, train_FD003, train_FD004])"
   ]
  },
  {
   "cell_type": "code",
   "execution_count": 58,
   "metadata": {},
   "outputs": [],
   "source": [
    "# ListDataRows = [setFarme for setFarme in train_FD001.values]\n",
    "\n",
    "# ListDataBatch = []\n",
    "# #pd.DataFrameListData"
   ]
  },
  {
   "cell_type": "code",
   "execution_count": 7,
   "metadata": {},
   "outputs": [],
   "source": [
    "def printData_operational_setting_1(Data, \n",
    "                                    index, \n",
    "                                    column_name_x: str, \n",
    "                                    column_name_y: str):\n",
    "    \n",
    "    setData = Data.copy()\n",
    "\n",
    "    p1 = sns.relplot(pd.DataFrame(setData.loc[setData['unit number'] == index]), \n",
    "                 x = column_name_x, \n",
    "                 y = column_name_y)\n",
    "\n",
    "#hue=\"unit number\""
   ]
  },
  {
   "cell_type": "markdown",
   "metadata": {},
   "source": [
    "##### Графики для sensor measurement 1"
   ]
  },
  {
   "cell_type": "code",
   "execution_count": null,
   "metadata": {},
   "outputs": [],
   "source": [
    "printData_operational_setting_1(train_FD001,\n",
    "                                50,\n",
    "                                'time in cycles',\n",
    "                                'sensor measurement 1')"
   ]
  },
  {
   "cell_type": "markdown",
   "metadata": {},
   "source": [
    "##### Графики для sensor measurement 2"
   ]
  },
  {
   "cell_type": "code",
   "execution_count": null,
   "metadata": {},
   "outputs": [],
   "source": [
    "for unit_number in range(1, 100, 50):\n",
    "    printData_operational_setting_1(train_FD001, \n",
    "                                    unit_number, \n",
    "                                    'time in cycles',\n",
    "                                    'sensor measurement 2')"
   ]
  },
  {
   "cell_type": "markdown",
   "metadata": {},
   "source": [
    "##### Графики для sensor measurement 7"
   ]
  },
  {
   "cell_type": "code",
   "execution_count": null,
   "metadata": {},
   "outputs": [],
   "source": [
    "for unit_number in range(1, 100, 30):\n",
    "    printData_operational_setting_1(train_FD001, \n",
    "                                    unit_number, \n",
    "                                    'time in cycles',\n",
    "                                    'sensor measurement 7')"
   ]
  },
  {
   "cell_type": "markdown",
   "metadata": {},
   "source": [
    "##### Графики для sensor measurement 8"
   ]
  },
  {
   "cell_type": "code",
   "execution_count": null,
   "metadata": {},
   "outputs": [],
   "source": [
    "for unit_number in range(1, 100, 10):\n",
    "    printData_operational_setting_1(train_FD001, \n",
    "                                    unit_number, \n",
    "                                    'time in cycles',\n",
    "                                    'sensor measurement 8')"
   ]
  },
  {
   "cell_type": "markdown",
   "metadata": {},
   "source": [
    "##### Графики для sensor measurement 17"
   ]
  },
  {
   "cell_type": "code",
   "execution_count": null,
   "metadata": {},
   "outputs": [],
   "source": [
    "for unit_number in range(1, 100, 20):\n",
    "    printData_operational_setting_1(train_FD001, \n",
    "                                    unit_number, \n",
    "                                    'time in cycles',\n",
    "                                    'sensor measurement 9')"
   ]
  },
  {
   "cell_type": "code",
   "execution_count": null,
   "metadata": {},
   "outputs": [],
   "source": [
    "for unit_number in range(1, 100, 10):\n",
    "    printData_operational_setting_1(train_FD001, \n",
    "                                    unit_number, \n",
    "                                    'time in cycles',\n",
    "                                    'sensor measurement 21')"
   ]
  },
  {
   "cell_type": "markdown",
   "metadata": {},
   "source": [
    "#### Разведочный анализ данных"
   ]
  },
  {
   "cell_type": "code",
   "execution_count": 39,
   "metadata": {},
   "outputs": [
    {
     "data": {
      "text/plain": [
       "Index(['unit number', 'time in cycles', 'operational setting 1',\n",
       "       'operational setting 2', 'operational setting 3',\n",
       "       'sensor measurement 1', 'sensor measurement 2', 'sensor measurement 3',\n",
       "       'sensor measurement 4', 'sensor measurement 5', 'sensor measurement 6',\n",
       "       'sensor measurement 7', 'sensor measurement 8', 'sensor measurement 9',\n",
       "       'sensor measurement 10', 'sensor measurement 11',\n",
       "       'sensor measurement 12', 'sensor measurement 13',\n",
       "       'sensor measurement 14', 'sensor measurement 15',\n",
       "       'sensor measurement 16', 'sensor measurement 17',\n",
       "       'sensor measurement 18', 'sensor measurement 19',\n",
       "       'sensor measurement 20', 'sensor measurement 21'],\n",
       "      dtype='object')"
      ]
     },
     "execution_count": 39,
     "metadata": {},
     "output_type": "execute_result"
    }
   ],
   "source": [
    "train_FD001.columns"
   ]
  },
  {
   "cell_type": "code",
   "execution_count": null,
   "metadata": {},
   "outputs": [],
   "source": [
    "sns.histplot(train_FD001[\"time in cycles\"])"
   ]
  },
  {
   "cell_type": "code",
   "execution_count": 89,
   "metadata": {},
   "outputs": [
    {
     "data": {
      "text/plain": [
       "<Axes: xlabel='sensor measurement 3', ylabel='Count'>"
      ]
     },
     "execution_count": 89,
     "metadata": {},
     "output_type": "execute_result"
    },
    {
     "data": {
      "image/png": "[encoded data removed]",
      "text/plain": [
       "<Figure size 640x480 with 1 Axes>"
      ]
     },
     "metadata": {},
     "output_type": "display_data"
    }
   ],
   "source": [
    "sns.histplot(train_FD001[\"sensor measurement 3\"], stat = \"count\")"
   ]
  },
  {
   "cell_type": "code",
   "execution_count": 57,
   "metadata": {},
   "outputs": [
    {
     "data": {
      "text/plain": [
       "Index(['0.000000000000000000e+00', '0.000000000000000000e+00.1',\n",
       "       '0.000000000000000000e+00.2', '0.000000000000000000e+00.3',\n",
       "       '0.000000000000000000e+00.4', '0.000000000000000000e+00.5',\n",
       "       '0.000000000000000000e+00.6', '0.000000000000000000e+00.7',\n",
       "       '0.000000000000000000e+00.8', '0.000000000000000000e+00.9',\n",
       "       '0.000000000000000000e+00.10', '0.000000000000000000e+00.11',\n",
       "       '0.000000000000000000e+00.12', '0.000000000000000000e+00.13',\n",
       "       '0.000000000000000000e+00.14', '0.000000000000000000e+00.15',\n",
       "       '0.000000000000000000e+00.16', '0.000000000000000000e+00.17',\n",
       "       '0.000000000000000000e+00.18', '0.000000000000000000e+00.19',\n",
       "       '0.000000000000000000e+00.20', '0.000000000000000000e+00.21',\n",
       "       '0.000000000000000000e+00.22', '0.000000000000000000e+00.23',\n",
       "       '0.000000000000000000e+00.24', '0.000000000000000000e+00.25'],\n",
       "      dtype='object')"
      ]
     },
     "execution_count": 57,
     "metadata": {},
     "output_type": "execute_result"
    }
   ],
   "source": [
    "New_NORMALNew_train_FD001.columns"
   ]
  },
  {
   "cell_type": "code",
   "execution_count": 85,
   "metadata": {},
   "outputs": [
    {
     "data": {
      "text/plain": [
       "<Axes: xlabel='0.000000000000000000e+00.7', ylabel='Count'>"
      ]
     },
     "execution_count": 85,
     "metadata": {},
     "output_type": "execute_result"
    },
    {
     "data": {
      "image/png": "[encoded data removed]",
      "text/plain": [
       "<Figure size 640x480 with 1 Axes>"
      ]
     },
     "metadata": {},
     "output_type": "display_data"
    }
   ],
   "source": [
    "sns.histplot(New_NORMALNew_train_FD001[\"0.000000000000000000e+00.7\"], stat = \"count\")"
   ]
  },
  {
   "cell_type": "code",
   "execution_count": 88,
   "metadata": {},
   "outputs": [
    {
     "data": {
      "text/plain": [
       "<Axes: xlabel='0.000000000000000000e+00.7', ylabel='Count'>"
      ]
     },
     "execution_count": 88,
     "metadata": {},
     "output_type": "execute_result"
    },
    {
     "data": {
      "image/png": "[encoded data removed]",
      "text/plain": [
       "<Figure size 640x480 with 1 Axes>"
      ]
     },
     "metadata": {},
     "output_type": "display_data"
    }
   ],
   "source": [
    "sns.histplot(New_ANOMALNew_train_FD001[\"0.000000000000000000e+00.7\"], stat = \"count\")"
   ]
  },
  {
   "cell_type": "code",
   "execution_count": 87,
   "metadata": {},
   "outputs": [
    {
     "data": {
      "text/plain": [
       "Index(['0.000000000000000000e+00', '0.000000000000000000e+00.1',\n",
       "       '0.000000000000000000e+00.2', '0.000000000000000000e+00.3',\n",
       "       '0.000000000000000000e+00.4', '0.000000000000000000e+00.5',\n",
       "       '0.000000000000000000e+00.6', '0.000000000000000000e+00.7',\n",
       "       '0.000000000000000000e+00.8', '0.000000000000000000e+00.9',\n",
       "       '0.000000000000000000e+00.10', '0.000000000000000000e+00.11',\n",
       "       '0.000000000000000000e+00.12', '0.000000000000000000e+00.13',\n",
       "       '0.000000000000000000e+00.14', '0.000000000000000000e+00.15',\n",
       "       '0.000000000000000000e+00.16', '0.000000000000000000e+00.17',\n",
       "       '0.000000000000000000e+00.18', '0.000000000000000000e+00.19',\n",
       "       '0.000000000000000000e+00.20', '0.000000000000000000e+00.21',\n",
       "       '0.000000000000000000e+00.22', '0.000000000000000000e+00.23',\n",
       "       '0.000000000000000000e+00.24', '0.000000000000000000e+00.25'],\n",
       "      dtype='object')"
      ]
     },
     "execution_count": 87,
     "metadata": {},
     "output_type": "execute_result"
    }
   ],
   "source": [
    "New_ANOMALNew_train_FD001.columns"
   ]
  }
 ],
 "metadata": {
  "kernelspec": {
   "display_name": "Python 3",
   "language": "python",
   "name": "python3"
  },
  "language_info": {
   "codemirror_mode": {
    "name": "ipython",
    "version": 3
   },
   "file_extension": ".py",
   "mimetype": "text/x-python",
   "name": "python",
   "nbconvert_exporter": "python",
   "pygments_lexer": "ipython3",
   "version": "3.11.7"
  }
 },
 "nbformat": 4,
 "nbformat_minor": 2
}
